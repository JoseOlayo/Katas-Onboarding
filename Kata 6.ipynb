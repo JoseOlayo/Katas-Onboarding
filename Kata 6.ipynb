{
 "cells": [
  {
   "cell_type": "markdown",
   "metadata": {},
   "source": [
    "Kata 6"
   ]
  },
  {
   "cell_type": "markdown",
   "metadata": {},
   "source": [
    "Ejercicio1: Crear y usar listas de Python"
   ]
  },
  {
   "cell_type": "code",
   "execution_count": 4,
   "metadata": {},
   "outputs": [
    {
     "name": "stdout",
     "output_type": "stream",
     "text": [
      "Numero de planetas en la lista \"planets\": 8\n",
      "Último elemento en la lista \"planets\": Pluto\n"
     ]
    }
   ],
   "source": [
    "# Creamos la lista planets y la mostramos\n",
    "planets = ['Mercury', 'Venus', 'Earth', 'Mars', 'Jupiter', 'Saturn', 'Uranus', 'Neptune']\n",
    "print('Numero de planetas en la lista \\\"planets\\\": ' + str(len(planets)))\n",
    "\n",
    "# Agregamos a plutón y mostramos el último elemento\n",
    "planets.append('Pluto')\n",
    "print('Último elemento en la lista \\\"planets\\\": ' + planets[-1])"
   ]
  },
  {
   "cell_type": "markdown",
   "metadata": {},
   "source": [
    "Ejercicio 2: Trabajando con datos de una lista"
   ]
  },
  {
   "cell_type": "code",
   "execution_count": 8,
   "metadata": {},
   "outputs": [
    {
     "name": "stdout",
     "output_type": "stream",
     "text": [
      "Hay 2 planetas más cercanos al sol que el planeta ingresado. Y son: ['Mercury', 'Venus']\n",
      "Hay 5 planetas más lejanos al sol que el planeta ingresado. Y son: ['Mars', 'Jupiter', 'Saturn', 'Uranus', 'Neptune']\n"
     ]
    }
   ],
   "source": [
    "# Lista de planetas\n",
    "planets = ['Mercury', 'Venus', 'Earth', 'Mars', 'Jupiter', 'Saturn', 'Uranus', 'Neptune']\n",
    "\n",
    "# Solicitamos el nombre de un planeta *Pista:  input()*\n",
    "search = input('Ingresa el nombre de un planeta (Formato: Nombre propio. Idioma: Inglés):')\n",
    "\n",
    "# Busca el planeta en la lista\n",
    "index = planets.index(search)\n",
    "\n",
    "# Muestra los planetas más cercanos al sol\n",
    "print('Hay ' + str(index) + ' planetas más cercanos al sol que el planeta ingresado. Y son: ' + str(planets[0:index]))\n",
    "\n",
    "# Muestra los planetas más lejanos al sol\n",
    "print('Hay ' + str(len(planets) - (index + 1)) + ' planetas más lejanos al sol que el planeta ingresado. Y son: ' + str(planets[index + 1:]))\n"
   ]
  }
 ],
 "metadata": {
  "interpreter": {
   "hash": "87f754195cb3db16a0012e69192683702de2105f50e80b258b92ac5e8546e814"
  },
  "kernelspec": {
   "display_name": "Python 3.10.2 64-bit",
   "language": "python",
   "name": "python3"
  },
  "language_info": {
   "codemirror_mode": {
    "name": "ipython",
    "version": 3
   },
   "file_extension": ".py",
   "mimetype": "text/x-python",
   "name": "python",
   "nbconvert_exporter": "python",
   "pygments_lexer": "ipython3",
   "version": "3.10.2"
  },
  "orig_nbformat": 4
 },
 "nbformat": 4,
 "nbformat_minor": 2
}
