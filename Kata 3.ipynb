{
 "cells": [
  {
   "cell_type": "markdown",
   "metadata": {},
   "source": [
    "Kata 3"
   ]
  },
  {
   "cell_type": "code",
   "execution_count": 5,
   "metadata": {},
   "outputs": [
    {
     "name": "stdout",
     "output_type": "stream",
     "text": [
      "¡ALERTA!\n",
      "¡Un asteroide se está acercando demasiado rápido a la Tierra! (49 km/s)\n"
     ]
    }
   ],
   "source": [
    "velocity = 49 #Velocidad del asteroide en km/s\n",
    "\n",
    "if velocity > 25: #Si el asteroide va más rápido que 25 km/s..\n",
    "    print(\"¡ALERTA!\\n¡Un asteroide se está acercando demasiado rápido a la Tierra! (\" + str(velocity) + \" km/s)\") #.. Dar la alerta\n",
    "else:\n",
    "    print(\"Info.\\nSe acerca un asteroide a \"+str(velocity)+\" km/s\")"
   ]
  },
  {
   "cell_type": "code",
   "execution_count": 6,
   "metadata": {},
   "outputs": [
    {
     "name": "stdout",
     "output_type": "stream",
     "text": [
      "Todo tranquilo... Por ahora.\n"
     ]
    }
   ],
   "source": [
    "velocity = 19 #Velocidad del asteroide en km/s\n",
    "\n",
    "if velocity > 20: #Si la velocidad del asteroide es mayor o igual a 20 km/s, se notifica al usuario.\n",
    "    print(\"Voltea al cielo, hay un rayo de luz. Es un asteroide c:\")\n",
    "elif velocity == 20:\n",
    "    print(\"Voltea al cielo, hay un rayo de luz. Es un asteroide c:\")\n",
    "else: #Si no, se le informa que todo está en orden.\n",
    "    print(\"Todo tranquilo... Por ahora.\")\n",
    "\n"
   ]
  },
  {
   "cell_type": "code",
   "execution_count": 18,
   "metadata": {},
   "outputs": [
    {
     "name": "stdout",
     "output_type": "stream",
     "text": [
      "¡Un gran asteroide está entrando a la Tierra y podría causar un gran daño!\n",
      "Dimensión más grande: [112] m Velocidad: [46] km/s\n"
     ]
    }
   ],
   "source": [
    "# Importando las librerías necesarias para generar numeros aleatorios.\n",
    "from numpy.random import seed\n",
    "from numpy.random import randint\n",
    "\n",
    "# Usando una semilla para el generador\n",
    "seed(117)\n",
    "\n",
    "# Generando la velocidad y tamaño del asteroide aleatoriamente.\n",
    "velocity = randint(0, 50, 1)\n",
    "biggestDimen = randint(0,1000,1)   \n",
    "\n",
    "if velocity > 25 and biggestDimen > 25:\n",
    "    print('¡Un gran asteroide está entrando a la Tierra y podría causar un gran daño!\\nDimensión más grande: '+ str(biggestDimen)+' m Velocidad: ' + str(velocity) + ' km/s')\n",
    "elif velocity >= 20:\n",
    "    print('Voltea al cielo, hay un rayo de luz. Es un asteroide c:')\n",
    "elif biggestDimen < 25:\n",
    "    print('Todo tranquilo... Por ahora.')\n",
    "else:\n",
    "    print('Todo tranquilo... Por ahora.')"
   ]
  }
 ],
 "metadata": {
  "interpreter": {
   "hash": "87f754195cb3db16a0012e69192683702de2105f50e80b258b92ac5e8546e814"
  },
  "kernelspec": {
   "display_name": "Python 3.10.2 64-bit",
   "language": "python",
   "name": "python3"
  },
  "language_info": {
   "codemirror_mode": {
    "name": "ipython",
    "version": 3
   },
   "file_extension": ".py",
   "mimetype": "text/x-python",
   "name": "python",
   "nbconvert_exporter": "python",
   "pygments_lexer": "ipython3",
   "version": "3.10.2"
  },
  "orig_nbformat": 4
 },
 "nbformat": 4,
 "nbformat_minor": 2
}
