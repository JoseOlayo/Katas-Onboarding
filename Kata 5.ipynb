{
 "cells": [
  {
   "cell_type": "markdown",
   "metadata": {},
   "source": [
    "Kata 5"
   ]
  },
  {
   "cell_type": "markdown",
   "metadata": {},
   "source": [
    "Ejercicio1 - Utilizar operadores aritméticos"
   ]
  },
  {
   "cell_type": "code",
   "execution_count": 3,
   "metadata": {},
   "outputs": [
    {
     "name": "stdout",
     "output_type": "stream",
     "text": [
      "628949330\n",
      "390577533.93\n"
     ]
    }
   ],
   "source": [
    "# Crear variables para almacenar las dos distancias\n",
    "\n",
    "earths_Distance = 149597870\n",
    "jupyters_Distance = 778547200\n",
    "\n",
    "# Calcular la distancia entre planetas\n",
    "difference_km = jupyters_Distance - earths_Distance\n",
    "difference_mi = difference_km * 0.621\n",
    "\n",
    "print(str(difference_km)+\"\\n\" + str(difference_mi))"
   ]
  },
  {
   "cell_type": "markdown",
   "metadata": {},
   "source": [
    "Ejercicio 2: convierte cadenas en números y usa valores absolutos"
   ]
  },
  {
   "cell_type": "code",
   "execution_count": 8,
   "metadata": {},
   "outputs": [
    {
     "name": "stdout",
     "output_type": "stream",
     "text": [
      "Diferencia de distancia de los 2 planetas con respecto al sol:\n",
      "4437200000 km\n",
      "2755501200.0 mi\n"
     ]
    }
   ],
   "source": [
    "# Almacenar las entradas del usuario\n",
    "\n",
    "distance0_str = input('Hola, ingresa la distancia del primer planeta: ')\n",
    "distance1_str = input('Hola, ingresa la distancia del segundo planeta: ')\n",
    "\n",
    "# Convierte las cadenas de ambos planetas a números enteros\n",
    "distance0 = int(distance0_str)\n",
    "distance1 = int(distance1_str)\n",
    "\n",
    "difference_km = abs(distance0 - distance1)\n",
    "difference_mi = difference_km * 0.621\n",
    "\n",
    "print('Diferencia de distancia de los 2 planetas con respecto al sol:\\n' + str(difference_km) + ' km\\n' + str(difference_mi) + ' mi')"
   ]
  }
 ],
 "metadata": {
  "interpreter": {
   "hash": "87f754195cb3db16a0012e69192683702de2105f50e80b258b92ac5e8546e814"
  },
  "kernelspec": {
   "display_name": "Python 3.10.2 64-bit",
   "language": "python",
   "name": "python3"
  },
  "language_info": {
   "codemirror_mode": {
    "name": "ipython",
    "version": 3
   },
   "file_extension": ".py",
   "mimetype": "text/x-python",
   "name": "python",
   "nbconvert_exporter": "python",
   "pygments_lexer": "ipython3",
   "version": "3.10.2"
  },
  "orig_nbformat": 4
 },
 "nbformat": 4,
 "nbformat_minor": 2
}
